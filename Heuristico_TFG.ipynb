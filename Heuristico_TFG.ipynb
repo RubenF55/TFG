{
 "cells": [
  {
   "cell_type": "markdown",
   "metadata": {},
   "source": [
    "Heuristico"
   ]
  },
  {
   "cell_type": "code",
   "execution_count": 1,
   "metadata": {},
   "outputs": [],
   "source": [
    "import numpy as np\n",
    "import math\n",
    "from tqdm import tqdm\n",
    "\n",
    "def heur(Q, f, r, c1):\n",
    "    suma_total = 0\n",
    "    c = c1\n",
    "    p = max(c1)\n",
    "    o = sorted(f, reverse=True)\n",
    "    a =  np.zeros((Q, r), dtype=int).tolist()\n",
    "    v =  [0]*(p+1)\n",
    "    q = 0\n",
    "    i = 0\n",
    "    j = 0\n",
    "    h = 0\n",
    "    C = True\n",
    "    total_iterations = Q\n",
    "    progress_bar = tqdm(total=total_iterations, desc=\"Procesando combinaciones\")\n",
    "    \n",
    "    for i in range(Q):\n",
    "        progress_bar.update(1)\n",
    "        q = o[i]\n",
    "        while o[i]>0:\n",
    "\n",
    "\n",
    "            if q in c:\n",
    "                j = c.index(q)\n",
    "                a[i][j] = q\n",
    "                o[i] -= q\n",
    "                c[j] = q = 0\n",
    "\n",
    "\n",
    "            elif (max(c) > q): \n",
    "                j = c.index(max(c))\n",
    "                a[i][j] = q\n",
    "                c[j] = c[j] - q\n",
    "                o[i] = o[i] - q\n",
    "                q = 0\n",
    "\n",
    "\n",
    "                    \n",
    "            else:\n",
    "                m_q = [x for x in c if x != 0 and x <= q/2]\n",
    "                \n",
    "                if len(m_q) == 0:\n",
    "                    ma_q = [x for x in c if x != 0]                    \n",
    "                    j = c.index(min(ma_q))\n",
    "                    a[i][j] = c[j]\n",
    "                    q -= c[j]\n",
    "                    o[i] -= c[j]\n",
    "                    c[j] = 0\n",
    "                    \n",
    "                else:  \n",
    "                    j = c.index(max(m_q))\n",
    "                    a[i][j] = c[j]\n",
    "                    q -= c[j]                \n",
    "                    o[i] -= c[j]\n",
    "                    c[j] = 0\n",
    "                \n",
    "    progress_bar.close()      \n",
    "    for i in range(Q):\n",
    "        for j in range(r):\n",
    "            v[a[i][j]] = v[a[i][j]] + 1\n",
    "    \n",
    "    for indice, valor in enumerate(v):\n",
    "        suma_total += valor * indice\n",
    "    print(f'Suma de valores vector {suma_total}')            \n",
    "\n",
    "    return a, v"
   ]
  },
  {
   "cell_type": "code",
   "execution_count": 7,
   "metadata": {},
   "outputs": [
    {
     "name": "stderr",
     "output_type": "stream",
     "text": [
      "Procesando combinaciones: 100%|██████████| 4/4 [00:00<?, ?it/s]"
     ]
    },
    {
     "name": "stdout",
     "output_type": "stream",
     "text": [
      "Suma de valores vector 15\n",
      "[[0, 2, 0, 3, 0], [4, 0, 0, 0, 0], [0, 0, 4, 0, 0], [0, 0, 0, 0, 2]]\n",
      "[15, 0, 2, 1, 2]\n"
     ]
    },
    {
     "name": "stderr",
     "output_type": "stream",
     "text": [
      "\n"
     ]
    }
   ],
   "source": [
    "#sumas_filas = [47, 83, 91, 67, 212, 47, 83, 91, 68, 211]\n",
    "#sumas_columnas = [53, 87, 61, 79, 101, 119, 53, 87, 61, 79, 102, 118]\n",
    "\n",
    "#sumas_filas = [67, 65, 74, 63, 67, 56, 57, 51]\n",
    "#sumas_columnas = [56, 47, 22, 90, 27, 50, 42, 51, 15, 43, 57]\n",
    "\n",
    "#sumas_filas = [47, 83, 91, 67, 262]\n",
    "#sumas_columnas = [53, 87, 61, 79, 101, 169]\n",
    "\n",
    "#sumas_filas =  [20, 11, 16]\n",
    "#sumas_columnas = [18, 19, 10]\n",
    "\n",
    "#sumas_filas = [23, 37, 45, 18, 77]\n",
    "#sumas_columnas = [13, 27, 35, 18, 42, 65]\n",
    "\n",
    "#sumas_filas = [23, 37, 15, 44, 31, 20, 30]\n",
    "#sumas_columnas = [13, 27, 35, 18, 42, 10, 25, 30]\n",
    "\n",
    "#sumas_filas =  [16, 11, 13, 16, 11, 16, 7, 10]\n",
    "#sumas_columnas = [6, 4, 7, 4, 10, 9, 4, 6, 4, 6, 6, 3, 5, 7, 9, 10]\n",
    "\n",
    "#sumas_filas = [3, 5, 6, 2, 6, 3, 2, 4, 5, 3, 5, 2, 2, 2]\n",
    "#sumas_columnas = [7, 4, 5, 9, 6, 4, 9, 3, 3]\n",
    "\n",
    "sumas_filas = [4, 4, 5, 2]\n",
    "sumas_columnas = [4, 2, 4, 3, 2]\n",
    "\n",
    "#sumas_filas = [101, 89, 113, 77, 73, 97, 91, 59, 53, 47, 200]\n",
    "#sumas_columnas = [201, 179, 157, 139, 103, 101, 61, 26, 33]\n",
    "\n",
    "#sumas_filas = [5, 4, 7, 5, 9, 9, 5, 6]\n",
    "#sumas_columnas = [5, 15, 4, 6, 13, 7]\n",
    "\n",
    "#sumas_filas = [5, 4, 7, 5, 9]\n",
    "#sumas_columnas = [5, 15, 4, 6]\n",
    "\n",
    "f1 = sumas_filas\n",
    "c1 = sumas_columnas\n",
    "Q = len(f1)\n",
    "r = len(c1)\n",
    "heuristico_matriz, texto = heur(Q, f1, r, c1)\n",
    "print(heuristico_matriz)\n",
    "print(texto)"
   ]
  }
 ],
 "metadata": {
  "kernelspec": {
   "display_name": "inspyred",
   "language": "python",
   "name": "python3"
  },
  "language_info": {
   "codemirror_mode": {
    "name": "ipython",
    "version": 3
   },
   "file_extension": ".py",
   "mimetype": "text/x-python",
   "name": "python",
   "nbconvert_exporter": "python",
   "pygments_lexer": "ipython3",
   "version": "3.10.18"
  }
 },
 "nbformat": 4,
 "nbformat_minor": 2
}
